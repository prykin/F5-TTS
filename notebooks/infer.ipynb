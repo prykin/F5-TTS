{
  "nbformat": 4,
  "nbformat_minor": 0,
  "metadata": {
    "colab": {
      "provenance": []
    },
    "kernelspec": {
      "name": "python3",
      "display_name": "Python 3"
    },
    "language_info": {
      "name": "python"
    }
  },
  "cells": [
    {
      "cell_type": "code",
      "execution_count": null,
      "metadata": {
        "id": "xq7qcSsmNPHN"
      },
      "outputs": [],
      "source": [
        "%cd /content\n",
        "!git clone https://github.com/prykin/F5-TTS.git --recursive --depth 1\n",
        "%cd F5-TTS\n",
        "\n",
        "!pip install -e .\n",
        "!f5-tts_infer-gradio --share"
      ]
    },
    {
      "cell_type": "markdown",
      "source": [],
      "metadata": {
        "id": "GoEwn2XaNksY"
      }
    }
  ]
}